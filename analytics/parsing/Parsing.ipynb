{
 "cells": [
  {
   "cell_type": "code",
   "execution_count": 1,
   "id": "4773d6b4-0717-4f5a-a719-52cd502b4e9f",
   "metadata": {},
   "outputs": [
    {
     "name": "stdout",
     "output_type": "stream",
     "text": [
      "Looking in indexes: https://artifactory.tcsbank.ru/artifactory/api/pypi/python-all/simple\n",
      "Requirement already satisfied: requests in /home/mlcore/conda/lib/python3.10/site-packages (2.32.3)\n",
      "Requirement already satisfied: beautifulsoup4 in /home/mlcore/.local/lib/python3.10/site-packages (4.13.4)\n",
      "Requirement already satisfied: lxml in /home/mlcore/.local/lib/python3.10/site-packages (5.4.0)\n",
      "Requirement already satisfied: openpyxl in /home/mlcore/conda/lib/python3.10/site-packages (3.1.5)\n",
      "Requirement already satisfied: asgiref in /home/mlcore/conda/lib/python3.10/site-packages (3.8.1)\n",
      "Requirement already satisfied: schedule in /home/mlcore/conda/lib/python3.10/site-packages (1.2.2)\n",
      "Requirement already satisfied: charset_normalizer<4,>=2 in /home/mlcore/conda/lib/python3.10/site-packages (from requests) (3.4.2)\n",
      "Requirement already satisfied: idna<4,>=2.5 in /home/mlcore/conda/lib/python3.10/site-packages (from requests) (3.10)\n",
      "Requirement already satisfied: urllib3<3,>=1.21.1 in /home/mlcore/conda/lib/python3.10/site-packages (from requests) (2.4.0)\n",
      "Requirement already satisfied: certifi>=2017.4.17 in /home/mlcore/.local/lib/python3.10/site-packages (from requests) (2025.4.26)\n",
      "Requirement already satisfied: soupsieve>1.2 in /home/mlcore/.local/lib/python3.10/site-packages (from beautifulsoup4) (2.7)\n",
      "Requirement already satisfied: typing-extensions>=4.0.0 in /home/mlcore/conda/lib/python3.10/site-packages (from beautifulsoup4) (4.13.2)\n",
      "Requirement already satisfied: et-xmlfile in /home/mlcore/conda/lib/python3.10/site-packages (from openpyxl) (2.0.0)\n",
      "\n",
      "\u001b[1m[\u001b[0m\u001b[34;49mnotice\u001b[0m\u001b[1;39;49m]\u001b[0m\u001b[39;49m A new release of pip is available: \u001b[0m\u001b[31;49m24.0\u001b[0m\u001b[39;49m -> \u001b[0m\u001b[32;49m25.1.1\u001b[0m\n",
      "\u001b[1m[\u001b[0m\u001b[34;49mnotice\u001b[0m\u001b[1;39;49m]\u001b[0m\u001b[39;49m To update, run: \u001b[0m\u001b[32;49mpython3.10 -m pip install --upgrade pip\u001b[0m\n",
      "Note: you may need to restart the kernel to use updated packages.\n"
     ]
    }
   ],
   "source": [
    "pip install requests beautifulsoup4 lxml openpyxl asgiref schedule\n"
   ]
  },
  {
   "cell_type": "code",
   "execution_count": 2,
   "id": "fcb6b906-a34b-4313-8dce-65164625d5cd",
   "metadata": {
    "scrolled": true
   },
   "outputs": [],
   "source": [
    "import requests \n",
    "from bs4 import BeautifulSoup\n",
    "from datetime import datetime, timedelta\n",
    "from urllib.parse import urljoin\n",
    "import time\n",
    "from concurrent.futures import ThreadPoolExecutor, as_completed\n",
    "import pandas as pd\n",
    "from datetime import datetime\n",
    "\n",
    "import sys\n",
    "sys.path.append('../')\n",
    "from src.date_parser import custom_date_parser\n",
    "from src.Lenta_parser import LentaNewsParser\n",
    "from src.Rbc_parser import rbc_parser\n",
    "from src.Agg_parser import NewsParser"
   ]
  },
  {
   "cell_type": "code",
   "execution_count": 5,
   "id": "bbe7aa34-de03-4ad5-be0f-c14edf3f70d9",
   "metadata": {},
   "outputs": [
    {
     "name": "stdout",
     "output_type": "stream",
     "text": [
      "Корректировка last_date на текущую дату\n",
      "Checking: https://lenta.ru/news/2025/06/08/page/1/\n",
      "Checking: https://lenta.ru/news/2025/06/08/page/2/\n",
      "Checking: https://lenta.ru/news/2025/06/08/page/3/\n",
      "Checking: https://lenta.ru/news/2025/06/08/page/4/\n",
      "Finish\n",
      "Нет новых данных для добавления\n"
     ]
    }
   ],
   "source": [
    "# Создание парсера с указанием пути\n",
    "parser = NewsParser(csv_file='df.csv')\n",
    "\n",
    "# Парсинг и сохранение в указанный файл\n",
    "news_data = parser.parse_new()"
   ]
  },
  {
   "cell_type": "code",
   "execution_count": 6,
   "id": "8b9545b4-db2b-42d9-8847-4dc3df28797b",
   "metadata": {},
   "outputs": [
    {
     "data": {
      "text/html": [
       "<div>\n",
       "<style scoped>\n",
       "    .dataframe tbody tr th:only-of-type {\n",
       "        vertical-align: middle;\n",
       "    }\n",
       "\n",
       "    .dataframe tbody tr th {\n",
       "        vertical-align: top;\n",
       "    }\n",
       "\n",
       "    .dataframe thead th {\n",
       "        text-align: right;\n",
       "    }\n",
       "</style>\n",
       "<table border=\"1\" class=\"dataframe\">\n",
       "  <thead>\n",
       "    <tr style=\"text-align: right;\">\n",
       "      <th></th>\n",
       "      <th>text</th>\n",
       "      <th>title</th>\n",
       "      <th>url</th>\n",
       "      <th>date</th>\n",
       "      <th>source</th>\n",
       "    </tr>\n",
       "  </thead>\n",
       "  <tbody>\n",
       "  </tbody>\n",
       "</table>\n",
       "</div>"
      ],
      "text/plain": [
       "Empty DataFrame\n",
       "Columns: [text, title, url, date, source]\n",
       "Index: []"
      ]
     },
     "execution_count": 6,
     "metadata": {},
     "output_type": "execute_result"
    }
   ],
   "source": [
    "news_data"
   ]
  },
  {
   "cell_type": "code",
   "execution_count": null,
   "id": "a8031f85-daea-42d7-886c-ef23378a4124",
   "metadata": {},
   "outputs": [],
   "source": []
  }
 ],
 "metadata": {
  "kernelspec": {
   "display_name": "Python 3 (ipykernel)",
   "language": "python",
   "name": "python3"
  },
  "language_info": {
   "codemirror_mode": {
    "name": "ipython",
    "version": 3
   },
   "file_extension": ".py",
   "mimetype": "text/x-python",
   "name": "python",
   "nbconvert_exporter": "python",
   "pygments_lexer": "ipython3",
   "version": "3.10.17"
  }
 },
 "nbformat": 4,
 "nbformat_minor": 5
}
